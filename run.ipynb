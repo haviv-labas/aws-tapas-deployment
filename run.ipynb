{
 "cells": [
  {
   "cell_type": "markdown",
   "id": "4674f667",
   "metadata": {},
   "source": [
    "# Deployment Runner"
   ]
  },
  {
   "cell_type": "markdown",
   "id": "b3e39838",
   "metadata": {},
   "source": [
    "## Overview"
   ]
  },
  {
   "cell_type": "markdown",
   "id": "a92c454f",
   "metadata": {},
   "source": [
    "This notebook creates an instance of ```TAPAS_Deployer``` and calls all neccessary actions to prepare the inference environment, build, deploy, and test it. For details, please refer to the source files included in ```./source``` which should was refactored to be easy to read. "
   ]
  },
  {
   "cell_type": "markdown",
   "id": "f92460bb-f922-43f9-a435-8ddb062cbffd",
   "metadata": {
    "tags": []
   },
   "source": [
    "## How to use this notebook..\n",
    "- Create an AWS account.\n",
    "- Create an IAM role with the following access permissions:\n",
    "- Start a new Notebook instance in Sagemaker using the role created above.\n",
    "- Clone this repository and run this notebook."
   ]
  },
  {
   "cell_type": "markdown",
   "id": "cae3092c",
   "metadata": {},
   "source": [
    "## Some Notes\n",
    "- ```Deployer``` is a generic class from which many models can be built and deployed directly.\n",
    "- ```TAPAS_Deployer``` inherits Deployer and any other model can be similarly created with minimum effort.\n",
    "- To avoid timeouts and and random kernel restarts, the running code is separated from the noteboook running it. \n",
    "- Everything in ```./source``` be easily imported as an API."
   ]
  },
  {
   "cell_type": "markdown",
   "id": "d4b1f0bf-6516-420c-9193-bf6c6380dcf0",
   "metadata": {},
   "source": [
    "### Install local dependencies"
   ]
  },
  {
   "cell_type": "code",
   "execution_count": 2,
   "id": "066c3731",
   "metadata": {
    "tags": []
   },
   "outputs": [
    {
     "name": "stdout",
     "output_type": "stream",
     "text": [
      "Looking in indexes: https://pypi.org/simple, https://pip.repos.neuron.amazonaws.com, https://pip.repos.neuron.amazonaws.com\n",
      "Requirement already satisfied: torch-neuron in /home/ec2-user/anaconda3/envs/amazonei_pytorch_latest_p37/lib/python3.7/site-packages (1.13.1.2.7.1.0)\n",
      "Requirement already satisfied: neuron-cc[tensorflow] in /home/ec2-user/anaconda3/envs/amazonei_pytorch_latest_p37/lib/python3.7/site-packages (1.15.0.0+eec0c3604)\n",
      "Requirement already satisfied: torchvision in /home/ec2-user/anaconda3/envs/amazonei_pytorch_latest_p37/lib/python3.7/site-packages (0.14.1)\n",
      "Requirement already satisfied: torch in /home/ec2-user/anaconda3/envs/amazonei_pytorch_latest_p37/lib/python3.7/site-packages (1.13.1)\n",
      "Requirement already satisfied: nvidia-cublas-cu11==11.10.3.66 in /home/ec2-user/anaconda3/envs/amazonei_pytorch_latest_p37/lib/python3.7/site-packages (from torch) (11.10.3.66)\n",
      "Requirement already satisfied: typing-extensions in /home/ec2-user/anaconda3/envs/amazonei_pytorch_latest_p37/lib/python3.7/site-packages (from torch) (4.4.0)\n",
      "Requirement already satisfied: nvidia-cuda-nvrtc-cu11==11.7.99 in /home/ec2-user/anaconda3/envs/amazonei_pytorch_latest_p37/lib/python3.7/site-packages (from torch) (11.7.99)\n",
      "Requirement already satisfied: nvidia-cudnn-cu11==8.5.0.96 in /home/ec2-user/anaconda3/envs/amazonei_pytorch_latest_p37/lib/python3.7/site-packages (from torch) (8.5.0.96)\n",
      "Requirement already satisfied: nvidia-cuda-runtime-cu11==11.7.99 in /home/ec2-user/anaconda3/envs/amazonei_pytorch_latest_p37/lib/python3.7/site-packages (from torch) (11.7.99)\n",
      "Requirement already satisfied: wheel in /home/ec2-user/anaconda3/envs/amazonei_pytorch_latest_p37/lib/python3.7/site-packages (from nvidia-cublas-cu11==11.10.3.66->torch) (0.38.4)\n",
      "Requirement already satisfied: setuptools in /home/ec2-user/anaconda3/envs/amazonei_pytorch_latest_p37/lib/python3.7/site-packages (from nvidia-cublas-cu11==11.10.3.66->torch) (65.6.3)\n",
      "Requirement already satisfied: networkx<=2.6.3 in /home/ec2-user/anaconda3/envs/amazonei_pytorch_latest_p37/lib/python3.7/site-packages (from neuron-cc[tensorflow]) (2.6.3)\n",
      "Requirement already satisfied: dmlc-tvm==1.15.0.0 in /home/ec2-user/anaconda3/envs/amazonei_pytorch_latest_p37/lib/python3.7/site-packages (from neuron-cc[tensorflow]) (1.15.0.0+0)\n",
      "Requirement already satisfied: dmlc-nnvm==1.15.0.0 in /home/ec2-user/anaconda3/envs/amazonei_pytorch_latest_p37/lib/python3.7/site-packages (from neuron-cc[tensorflow]) (1.15.0.0+0)\n",
      "Requirement already satisfied: protobuf<=3.20.1 in /home/ec2-user/anaconda3/envs/amazonei_pytorch_latest_p37/lib/python3.7/site-packages (from neuron-cc[tensorflow]) (3.20.1)\n",
      "Requirement already satisfied: islpy<=2022.1.1,>2021.1 in /home/ec2-user/anaconda3/envs/amazonei_pytorch_latest_p37/lib/python3.7/site-packages (from neuron-cc[tensorflow]) (2022.1.1)\n",
      "Requirement already satisfied: scipy<2 in /home/ec2-user/anaconda3/envs/amazonei_pytorch_latest_p37/lib/python3.7/site-packages (from neuron-cc[tensorflow]) (1.7.3)\n",
      "Requirement already satisfied: numpy<2,>=1.13.3 in /home/ec2-user/anaconda3/envs/amazonei_pytorch_latest_p37/lib/python3.7/site-packages (from neuron-cc[tensorflow]) (1.18.5)\n",
      "Requirement already satisfied: dmlc-topi==1.15.0.0 in /home/ec2-user/anaconda3/envs/amazonei_pytorch_latest_p37/lib/python3.7/site-packages (from neuron-cc[tensorflow]) (1.15.0.0+0)\n",
      "Requirement already satisfied: inferentia-hwm==1.14.1.0 in /home/ec2-user/anaconda3/envs/amazonei_pytorch_latest_p37/lib/python3.7/site-packages (from neuron-cc[tensorflow]) (1.14.1.0+a9fb5c73a)\n",
      "Requirement already satisfied: tensorflow<2 in /home/ec2-user/anaconda3/envs/amazonei_pytorch_latest_p37/lib/python3.7/site-packages (from neuron-cc[tensorflow]) (1.15.5)\n",
      "Requirement already satisfied: decorator in /home/ec2-user/anaconda3/envs/amazonei_pytorch_latest_p37/lib/python3.7/site-packages (from dmlc-topi==1.15.0.0->neuron-cc[tensorflow]) (5.1.1)\n",
      "Requirement already satisfied: attrs in /home/ec2-user/anaconda3/envs/amazonei_pytorch_latest_p37/lib/python3.7/site-packages (from dmlc-tvm==1.15.0.0->neuron-cc[tensorflow]) (22.2.0)\n",
      "Requirement already satisfied: pillow!=8.3.*,>=5.3.0 in /home/ec2-user/anaconda3/envs/amazonei_pytorch_latest_p37/lib/python3.7/site-packages (from torchvision) (9.4.0)\n",
      "Requirement already satisfied: requests in /home/ec2-user/anaconda3/envs/amazonei_pytorch_latest_p37/lib/python3.7/site-packages (from torchvision) (2.28.1)\n",
      "Requirement already satisfied: pytest>=2 in /home/ec2-user/anaconda3/envs/amazonei_pytorch_latest_p37/lib/python3.7/site-packages (from islpy<=2022.1.1,>2021.1->neuron-cc[tensorflow]) (7.3.1)\n",
      "Requirement already satisfied: h5py<=2.10.0 in /home/ec2-user/anaconda3/envs/amazonei_pytorch_latest_p37/lib/python3.7/site-packages (from tensorflow<2->neuron-cc[tensorflow]) (2.10.0)\n",
      "Requirement already satisfied: termcolor>=1.1.0 in /home/ec2-user/anaconda3/envs/amazonei_pytorch_latest_p37/lib/python3.7/site-packages (from tensorflow<2->neuron-cc[tensorflow]) (2.3.0)\n",
      "Requirement already satisfied: wrapt>=1.11.1 in /home/ec2-user/anaconda3/envs/amazonei_pytorch_latest_p37/lib/python3.7/site-packages (from tensorflow<2->neuron-cc[tensorflow]) (1.15.0)\n",
      "Requirement already satisfied: grpcio>=1.8.6 in /home/ec2-user/anaconda3/envs/amazonei_pytorch_latest_p37/lib/python3.7/site-packages (from tensorflow<2->neuron-cc[tensorflow]) (1.54.2)\n",
      "Requirement already satisfied: opt-einsum>=2.3.2 in /home/ec2-user/anaconda3/envs/amazonei_pytorch_latest_p37/lib/python3.7/site-packages (from tensorflow<2->neuron-cc[tensorflow]) (3.3.0)\n",
      "Requirement already satisfied: absl-py>=0.7.0 in /home/ec2-user/anaconda3/envs/amazonei_pytorch_latest_p37/lib/python3.7/site-packages (from tensorflow<2->neuron-cc[tensorflow]) (1.4.0)\n",
      "Requirement already satisfied: six>=1.10.0 in /home/ec2-user/anaconda3/envs/amazonei_pytorch_latest_p37/lib/python3.7/site-packages (from tensorflow<2->neuron-cc[tensorflow]) (1.16.0)\n",
      "Requirement already satisfied: tensorboard<1.16.0,>=1.15.0 in /home/ec2-user/anaconda3/envs/amazonei_pytorch_latest_p37/lib/python3.7/site-packages (from tensorflow<2->neuron-cc[tensorflow]) (1.15.0)\n",
      "Requirement already satisfied: gast==0.2.2 in /home/ec2-user/anaconda3/envs/amazonei_pytorch_latest_p37/lib/python3.7/site-packages (from tensorflow<2->neuron-cc[tensorflow]) (0.2.2)\n",
      "Requirement already satisfied: astor>=0.6.0 in /home/ec2-user/anaconda3/envs/amazonei_pytorch_latest_p37/lib/python3.7/site-packages (from tensorflow<2->neuron-cc[tensorflow]) (0.8.1)\n",
      "Requirement already satisfied: google-pasta>=0.1.6 in /home/ec2-user/anaconda3/envs/amazonei_pytorch_latest_p37/lib/python3.7/site-packages (from tensorflow<2->neuron-cc[tensorflow]) (0.2.0)\n",
      "Requirement already satisfied: keras-preprocessing>=1.0.5 in /home/ec2-user/anaconda3/envs/amazonei_pytorch_latest_p37/lib/python3.7/site-packages (from tensorflow<2->neuron-cc[tensorflow]) (1.1.2)\n",
      "Requirement already satisfied: keras-applications>=1.0.8 in /home/ec2-user/anaconda3/envs/amazonei_pytorch_latest_p37/lib/python3.7/site-packages (from tensorflow<2->neuron-cc[tensorflow]) (1.0.8)\n",
      "Requirement already satisfied: tensorflow-estimator==1.15.1 in /home/ec2-user/anaconda3/envs/amazonei_pytorch_latest_p37/lib/python3.7/site-packages (from tensorflow<2->neuron-cc[tensorflow]) (1.15.1)\n",
      "Requirement already satisfied: certifi>=2017.4.17 in /home/ec2-user/anaconda3/envs/amazonei_pytorch_latest_p37/lib/python3.7/site-packages (from requests->torchvision) (2022.12.7)\n",
      "Requirement already satisfied: charset-normalizer<3,>=2 in /home/ec2-user/anaconda3/envs/amazonei_pytorch_latest_p37/lib/python3.7/site-packages (from requests->torchvision) (2.1.1)\n",
      "Requirement already satisfied: urllib3<1.27,>=1.21.1 in /home/ec2-user/anaconda3/envs/amazonei_pytorch_latest_p37/lib/python3.7/site-packages (from requests->torchvision) (1.26.8)\n",
      "Requirement already satisfied: idna<4,>=2.5 in /home/ec2-user/anaconda3/envs/amazonei_pytorch_latest_p37/lib/python3.7/site-packages (from requests->torchvision) (3.4)\n",
      "Requirement already satisfied: tomli>=1.0.0 in /home/ec2-user/anaconda3/envs/amazonei_pytorch_latest_p37/lib/python3.7/site-packages (from pytest>=2->islpy<=2022.1.1,>2021.1->neuron-cc[tensorflow]) (2.0.1)\n",
      "Requirement already satisfied: pluggy<2.0,>=0.12 in /home/ec2-user/anaconda3/envs/amazonei_pytorch_latest_p37/lib/python3.7/site-packages (from pytest>=2->islpy<=2022.1.1,>2021.1->neuron-cc[tensorflow]) (1.0.0)\n",
      "Requirement already satisfied: exceptiongroup>=1.0.0rc8 in /home/ec2-user/anaconda3/envs/amazonei_pytorch_latest_p37/lib/python3.7/site-packages (from pytest>=2->islpy<=2022.1.1,>2021.1->neuron-cc[tensorflow]) (1.1.1)\n",
      "Requirement already satisfied: packaging in /home/ec2-user/anaconda3/envs/amazonei_pytorch_latest_p37/lib/python3.7/site-packages (from pytest>=2->islpy<=2022.1.1,>2021.1->neuron-cc[tensorflow]) (21.3)\n",
      "Requirement already satisfied: iniconfig in /home/ec2-user/anaconda3/envs/amazonei_pytorch_latest_p37/lib/python3.7/site-packages (from pytest>=2->islpy<=2022.1.1,>2021.1->neuron-cc[tensorflow]) (2.0.0)\n",
      "Requirement already satisfied: importlib-metadata>=0.12 in /home/ec2-user/anaconda3/envs/amazonei_pytorch_latest_p37/lib/python3.7/site-packages (from pytest>=2->islpy<=2022.1.1,>2021.1->neuron-cc[tensorflow]) (4.11.4)\n",
      "Requirement already satisfied: werkzeug>=0.11.15 in /home/ec2-user/anaconda3/envs/amazonei_pytorch_latest_p37/lib/python3.7/site-packages (from tensorboard<1.16.0,>=1.15.0->tensorflow<2->neuron-cc[tensorflow]) (2.2.2)\n",
      "Requirement already satisfied: markdown>=2.6.8 in /home/ec2-user/anaconda3/envs/amazonei_pytorch_latest_p37/lib/python3.7/site-packages (from tensorboard<1.16.0,>=1.15.0->tensorflow<2->neuron-cc[tensorflow]) (3.4.3)\n",
      "Requirement already satisfied: zipp>=0.5 in /home/ec2-user/anaconda3/envs/amazonei_pytorch_latest_p37/lib/python3.7/site-packages (from importlib-metadata>=0.12->pytest>=2->islpy<=2022.1.1,>2021.1->neuron-cc[tensorflow]) (3.11.0)\n",
      "Requirement already satisfied: MarkupSafe>=2.1.1 in /home/ec2-user/anaconda3/envs/amazonei_pytorch_latest_p37/lib/python3.7/site-packages (from werkzeug>=0.11.15->tensorboard<1.16.0,>=1.15.0->tensorflow<2->neuron-cc[tensorflow]) (2.1.1)\n",
      "Requirement already satisfied: pyparsing!=3.0.5,>=2.0.2 in /home/ec2-user/anaconda3/envs/amazonei_pytorch_latest_p37/lib/python3.7/site-packages (from packaging->pytest>=2->islpy<=2022.1.1,>2021.1->neuron-cc[tensorflow]) (3.0.9)\n",
      "Looking in indexes: https://pypi.org/simple, https://pip.repos.neuron.amazonaws.com\n",
      "Requirement already satisfied: transformers==4.6.0 in /home/ec2-user/anaconda3/envs/amazonei_pytorch_latest_p37/lib/python3.7/site-packages (4.6.0)\n",
      "Requirement already satisfied: huggingface-hub==0.0.8 in /home/ec2-user/anaconda3/envs/amazonei_pytorch_latest_p37/lib/python3.7/site-packages (from transformers==4.6.0) (0.0.8)\n",
      "Requirement already satisfied: tokenizers<0.11,>=0.10.1 in /home/ec2-user/anaconda3/envs/amazonei_pytorch_latest_p37/lib/python3.7/site-packages (from transformers==4.6.0) (0.10.3)\n",
      "Requirement already satisfied: regex!=2019.12.17 in /home/ec2-user/anaconda3/envs/amazonei_pytorch_latest_p37/lib/python3.7/site-packages (from transformers==4.6.0) (2022.10.31)\n",
      "Requirement already satisfied: packaging in /home/ec2-user/anaconda3/envs/amazonei_pytorch_latest_p37/lib/python3.7/site-packages (from transformers==4.6.0) (21.3)\n",
      "Requirement already satisfied: numpy>=1.17 in /home/ec2-user/anaconda3/envs/amazonei_pytorch_latest_p37/lib/python3.7/site-packages (from transformers==4.6.0) (1.18.5)\n",
      "Requirement already satisfied: sacremoses in /home/ec2-user/anaconda3/envs/amazonei_pytorch_latest_p37/lib/python3.7/site-packages (from transformers==4.6.0) (0.0.53)\n",
      "Requirement already satisfied: filelock in /home/ec2-user/anaconda3/envs/amazonei_pytorch_latest_p37/lib/python3.7/site-packages (from transformers==4.6.0) (3.9.0)\n",
      "Requirement already satisfied: tqdm>=4.27 in /home/ec2-user/anaconda3/envs/amazonei_pytorch_latest_p37/lib/python3.7/site-packages (from transformers==4.6.0) (4.64.1)\n",
      "Requirement already satisfied: requests in /home/ec2-user/anaconda3/envs/amazonei_pytorch_latest_p37/lib/python3.7/site-packages (from transformers==4.6.0) (2.28.1)\n",
      "Requirement already satisfied: importlib-metadata in /home/ec2-user/anaconda3/envs/amazonei_pytorch_latest_p37/lib/python3.7/site-packages (from transformers==4.6.0) (4.11.4)\n",
      "Requirement already satisfied: zipp>=0.5 in /home/ec2-user/anaconda3/envs/amazonei_pytorch_latest_p37/lib/python3.7/site-packages (from importlib-metadata->transformers==4.6.0) (3.11.0)\n",
      "Requirement already satisfied: typing-extensions>=3.6.4 in /home/ec2-user/anaconda3/envs/amazonei_pytorch_latest_p37/lib/python3.7/site-packages (from importlib-metadata->transformers==4.6.0) (4.4.0)\n",
      "Requirement already satisfied: pyparsing!=3.0.5,>=2.0.2 in /home/ec2-user/anaconda3/envs/amazonei_pytorch_latest_p37/lib/python3.7/site-packages (from packaging->transformers==4.6.0) (3.0.9)\n",
      "Requirement already satisfied: idna<4,>=2.5 in /home/ec2-user/anaconda3/envs/amazonei_pytorch_latest_p37/lib/python3.7/site-packages (from requests->transformers==4.6.0) (3.4)\n",
      "Requirement already satisfied: charset-normalizer<3,>=2 in /home/ec2-user/anaconda3/envs/amazonei_pytorch_latest_p37/lib/python3.7/site-packages (from requests->transformers==4.6.0) (2.1.1)\n",
      "Requirement already satisfied: urllib3<1.27,>=1.21.1 in /home/ec2-user/anaconda3/envs/amazonei_pytorch_latest_p37/lib/python3.7/site-packages (from requests->transformers==4.6.0) (1.26.8)\n",
      "Requirement already satisfied: certifi>=2017.4.17 in /home/ec2-user/anaconda3/envs/amazonei_pytorch_latest_p37/lib/python3.7/site-packages (from requests->transformers==4.6.0) (2022.12.7)\n",
      "Requirement already satisfied: joblib in /home/ec2-user/anaconda3/envs/amazonei_pytorch_latest_p37/lib/python3.7/site-packages (from sacremoses->transformers==4.6.0) (1.2.0)\n",
      "Requirement already satisfied: six in /home/ec2-user/anaconda3/envs/amazonei_pytorch_latest_p37/lib/python3.7/site-packages (from sacremoses->transformers==4.6.0) (1.16.0)\n",
      "Requirement already satisfied: click in /home/ec2-user/anaconda3/envs/amazonei_pytorch_latest_p37/lib/python3.7/site-packages (from sacremoses->transformers==4.6.0) (8.1.3)\n",
      "Looking in indexes: https://pypi.org/simple, https://pip.repos.neuron.amazonaws.com\n",
      "Requirement already satisfied: torch in /home/ec2-user/anaconda3/envs/amazonei_pytorch_latest_p37/lib/python3.7/site-packages (1.13.1)\n",
      "Requirement already satisfied: torch-scatter in /home/ec2-user/anaconda3/envs/amazonei_pytorch_latest_p37/lib/python3.7/site-packages (2.1.1)\n",
      "Requirement already satisfied: nvidia-cudnn-cu11==8.5.0.96 in /home/ec2-user/anaconda3/envs/amazonei_pytorch_latest_p37/lib/python3.7/site-packages (from torch) (8.5.0.96)\n",
      "Requirement already satisfied: typing-extensions in /home/ec2-user/anaconda3/envs/amazonei_pytorch_latest_p37/lib/python3.7/site-packages (from torch) (4.4.0)\n",
      "Requirement already satisfied: nvidia-cublas-cu11==11.10.3.66 in /home/ec2-user/anaconda3/envs/amazonei_pytorch_latest_p37/lib/python3.7/site-packages (from torch) (11.10.3.66)\n",
      "Requirement already satisfied: nvidia-cuda-nvrtc-cu11==11.7.99 in /home/ec2-user/anaconda3/envs/amazonei_pytorch_latest_p37/lib/python3.7/site-packages (from torch) (11.7.99)\n",
      "Requirement already satisfied: nvidia-cuda-runtime-cu11==11.7.99 in /home/ec2-user/anaconda3/envs/amazonei_pytorch_latest_p37/lib/python3.7/site-packages (from torch) (11.7.99)\n",
      "Requirement already satisfied: wheel in /home/ec2-user/anaconda3/envs/amazonei_pytorch_latest_p37/lib/python3.7/site-packages (from nvidia-cublas-cu11==11.10.3.66->torch) (0.38.4)\n",
      "Requirement already satisfied: setuptools in /home/ec2-user/anaconda3/envs/amazonei_pytorch_latest_p37/lib/python3.7/site-packages (from nvidia-cublas-cu11==11.10.3.66->torch) (65.6.3)\n"
     ]
    }
   ],
   "source": [
    "!pip install --upgrade --no-cache-dir torch-neuron neuron-cc[tensorflow] torchvision torch --extra-index-url=https://pip.repos.neuron.amazonaws.com\n",
    "!pip install --upgrade --no-cache-dir 'transformers==4.6.0'\n",
    "!pip install torch torch-scatter"
   ]
  },
  {
   "cell_type": "markdown",
   "id": "a4796d3a",
   "metadata": {},
   "source": [
    "### Create deployer"
   ]
  },
  {
   "cell_type": "code",
   "execution_count": null,
   "id": "6fe85f8e",
   "metadata": {
    "tags": []
   },
   "outputs": [],
   "source": [
    "from source.tapas import TAPAS_Deployer\n",
    "tapas_deployer = TAPAS_Deployer()"
   ]
  },
  {
   "cell_type": "markdown",
   "id": "928d9222-f669-4fed-aafe-8d5bb4170ad6",
   "metadata": {},
   "source": [
    "### Retrieve model and from Huggingface Hub its respective tokeniser."
   ]
  },
  {
   "cell_type": "code",
   "execution_count": null,
   "id": "189b83ed-7abe-4219-bcc5-f70d38023d13",
   "metadata": {},
   "outputs": [],
   "source": [
    "tapas_deployer.get_model_and_tokeniser()"
   ]
  },
  {
   "cell_type": "markdown",
   "id": "2efa89ef-fc6a-49c2-b923-a7a54c60ea33",
   "metadata": {},
   "source": [
    "### Trace the model to be deployed into a Neuron instance"
   ]
  },
  {
   "cell_type": "code",
   "execution_count": null,
   "id": "6df5a2f0-4af5-4c34-9e19-3a2390bb0c7b",
   "metadata": {},
   "outputs": [],
   "source": [
    "tapas_deployer.trace_model()"
   ]
  },
  {
   "cell_type": "markdown",
   "id": "125f6e52-ffdb-401c-92e7-f2bdf3d13f7f",
   "metadata": {},
   "source": [
    "### Upload the traced model into S3"
   ]
  },
  {
   "cell_type": "code",
   "execution_count": null,
   "id": "e791eba9-c88f-4be9-a0fb-91b69228fe8b",
   "metadata": {},
   "outputs": [],
   "source": [
    "tapas_deployer.upload_model_to_s3()"
   ]
  },
  {
   "cell_type": "markdown",
   "id": "1ee47f1a-1059-4392-a7c5-b8b325c7e7bf",
   "metadata": {},
   "source": [
    "### Build the docker image that will serve as the hosting environment of the deployed model\n",
    "To see all the instructions used to build the image, check the Dockerfile at ```./Dockerfile```"
   ]
  },
  {
   "cell_type": "code",
   "execution_count": null,
   "id": "7d6a4df2-8448-4e20-85c6-de3aa83a4267",
   "metadata": {},
   "outputs": [],
   "source": [
    "tapas_deployer.build_ecr_image()"
   ]
  },
  {
   "cell_type": "markdown",
   "id": "80ee38c7-c765-4f9a-beed-9484c5508810",
   "metadata": {},
   "source": [
    "### Deploy the built environment using the entrypoint ```./code/inference.py``` to define how the image starts and how it reacts to queries"
   ]
  },
  {
   "cell_type": "code",
   "execution_count": null,
   "id": "2e8832f6-1c0d-475d-9bb0-30ff88bca169",
   "metadata": {},
   "outputs": [],
   "source": [
    "tapas_deployer.deploy_ecr_image()"
   ]
  },
  {
   "cell_type": "markdown",
   "id": "524de893-a9b8-4027-8616-3da61f3e02a1",
   "metadata": {},
   "source": [
    "### Delete the endpoint after testing it"
   ]
  },
  {
   "cell_type": "code",
   "execution_count": null,
   "id": "b37cc127-6f0e-4a4e-b2ab-cb07468a56d6",
   "metadata": {},
   "outputs": [],
   "source": [
    "tapas_deployer.terminate()"
   ]
  }
 ],
 "metadata": {
  "kernelspec": {
   "display_name": "conda_amazonei_pytorch_latest_p37",
   "language": "python",
   "name": "conda_amazonei_pytorch_latest_p37"
  },
  "language_info": {
   "codemirror_mode": {
    "name": "ipython",
    "version": 3
   },
   "file_extension": ".py",
   "mimetype": "text/x-python",
   "name": "python",
   "nbconvert_exporter": "python",
   "pygments_lexer": "ipython3",
   "version": "3.7.10"
  },
  "vscode": {
   "interpreter": {
    "hash": "31f2aee4e71d21fbe5cf8b01ff0e069b9275f58929596ceb00d14d90e3e16cd6"
   }
  }
 },
 "nbformat": 4,
 "nbformat_minor": 5
}
